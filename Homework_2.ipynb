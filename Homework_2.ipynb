{
 "cells": [
  {
   "cell_type": "markdown",
   "metadata": {
    "toc": true
   },
   "source": [
    "<h1>Table of Contents<span class=\"tocSkip\"></span></h1>\n",
    "<div class=\"toc\"><ul class=\"toc-item\"><li><span><a href=\"#-Homework-2-(Topics-5-7:-Groupby,-Merge,-Visualization)\" data-toc-modified-id=\"-Homework-2-(Topics-5-7:-Groupby,-Merge,-Visualization)-1\"><span class=\"toc-item-num\">1&nbsp;&nbsp;</span><center> Homework 2 (Topics 5-7: Groupby, Merge, Visualization)</center></a></span><ul class=\"toc-item\"><li><ul class=\"toc-item\"><li><ul class=\"toc-item\"><li><span><a href=\"#Task-0.\" data-toc-modified-id=\"Task-0.-1.0.0.1\"><span class=\"toc-item-num\">1.0.0.1&nbsp;&nbsp;</span>Task 0.</a></span></li><li><span><a href=\"#Task-1.\" data-toc-modified-id=\"Task-1.-1.0.0.2\"><span class=\"toc-item-num\">1.0.0.2&nbsp;&nbsp;</span>Task 1.</a></span></li><li><span><a href=\"#Task-2:\" data-toc-modified-id=\"Task-2:-1.0.0.3\"><span class=\"toc-item-num\">1.0.0.3&nbsp;&nbsp;</span>Task 2:</a></span></li><li><span><a href=\"#Task-3:\" data-toc-modified-id=\"Task-3:-1.0.0.4\"><span class=\"toc-item-num\">1.0.0.4&nbsp;&nbsp;</span>Task 3:</a></span></li><li><span><a href=\"#Task-4:\" data-toc-modified-id=\"Task-4:-1.0.0.5\"><span class=\"toc-item-num\">1.0.0.5&nbsp;&nbsp;</span>Task 4:</a></span></li><li><span><a href=\"#Task-5:\" data-toc-modified-id=\"Task-5:-1.0.0.6\"><span class=\"toc-item-num\">1.0.0.6&nbsp;&nbsp;</span>Task 5:</a></span></li><li><span><a href=\"#Вопросы:\" data-toc-modified-id=\"Вопросы:-1.0.0.7\"><span class=\"toc-item-num\">1.0.0.7&nbsp;&nbsp;</span>Вопросы:</a></span></li><li><span><a href=\"#Task-6:\" data-toc-modified-id=\"Task-6:-1.0.0.8\"><span class=\"toc-item-num\">1.0.0.8&nbsp;&nbsp;</span>Task 6:</a></span></li><li><span><a href=\"#Вопросы:\" data-toc-modified-id=\"Вопросы:-1.0.0.9\"><span class=\"toc-item-num\">1.0.0.9&nbsp;&nbsp;</span>Вопросы:</a></span></li></ul></li></ul></li></ul></li></ul></div>"
   ]
  },
  {
   "cell_type": "markdown",
   "metadata": {},
   "source": [
    "# <center> Homework 2 (Topics 5-7: Groupby, Merge, Visualization)"
   ]
  },
  {
   "cell_type": "code",
   "execution_count": 1,
   "metadata": {
    "ExecuteTime": {
     "end_time": "2020-04-23T10:26:06.303166Z",
     "start_time": "2020-04-23T10:26:05.458848Z"
    }
   },
   "outputs": [],
   "source": [
    "import pandas as pd\n",
    "import numpy as np\n",
    "\n",
    "import matplotlib.pyplot as plt\n",
    "import seaborn as sns\n",
    "%matplotlib inline"
   ]
  },
  {
   "cell_type": "markdown",
   "metadata": {},
   "source": [
    "Ещё раз (как и в задании 1) считайте в переменные tr_mcc_codes, tr_types, transactions и customers_gender_train. В transactions опять считайте только первые 1000000 строк."
   ]
  },
  {
   "cell_type": "code",
   "execution_count": 15,
   "metadata": {
    "ExecuteTime": {
     "end_time": "2020-04-23T10:26:18.234475Z",
     "start_time": "2020-04-23T10:26:18.232003Z"
    }
   },
   "outputs": [],
   "source": [
    "### Type your code here\n",
    "tr_types = pd.read_csv(filepath_or_buffer =\"C:\\\\Users\\\\1\\\\Desktop\\\\data\\\\tr_types.csv\", sep = ';')\n",
    "tr_mcc_codes = pd.read_csv(filepath_or_buffer =\"C:\\\\Users\\\\1\\\\Desktop\\\\data\\\\tr_mcc_codes.csv\", sep = ';')\n",
    "transactions = pd.read_csv(filepath_or_buffer =\"C:\\\\Users\\\\1\\\\Desktop\\\\data\\\\transactions.csv\", sep = ',', nrows = 1000000)\n",
    "customers_gender_train = pd.read_csv(filepath_or_buffer =\"C:\\\\Users\\\\1\\\\Desktop\\\\data\\\\gender_train.csv\", sep = ',')"
   ]
  },
  {
   "cell_type": "markdown",
   "metadata": {},
   "source": [
    "#### Task 0.\n",
    "Соедините transactions с всеми остальными таблицами (tr_mcc_codes, tr_types, gender_train). Причём с customers_gender_train необходимо смёрджиться с помощью left join, а с оставшимися датафреймами - через inner.\n",
    "После получения результата таблицы gender_train, tr_types, tr_mcc_codes можно удалить. В результате соединения датафреймов должно получиться 999584 строки."
   ]
  },
  {
   "cell_type": "code",
   "execution_count": 17,
   "metadata": {
    "ExecuteTime": {
     "end_time": "2020-04-23T10:26:27.618399Z",
     "start_time": "2020-04-23T10:26:27.615930Z"
    }
   },
   "outputs": [
    {
     "data": {
      "text/html": [
       "<div>\n",
       "<style scoped>\n",
       "    .dataframe tbody tr th:only-of-type {\n",
       "        vertical-align: middle;\n",
       "    }\n",
       "\n",
       "    .dataframe tbody tr th {\n",
       "        vertical-align: top;\n",
       "    }\n",
       "\n",
       "    .dataframe thead th {\n",
       "        text-align: right;\n",
       "    }\n",
       "</style>\n",
       "<table border=\"1\" class=\"dataframe\">\n",
       "  <thead>\n",
       "    <tr style=\"text-align: right;\">\n",
       "      <th></th>\n",
       "      <th>customer_id</th>\n",
       "      <th>tr_datetime</th>\n",
       "      <th>mcc_code</th>\n",
       "      <th>tr_type</th>\n",
       "      <th>amount</th>\n",
       "      <th>term_id</th>\n",
       "      <th>gender</th>\n",
       "      <th>mcc_description</th>\n",
       "      <th>tr_description</th>\n",
       "    </tr>\n",
       "  </thead>\n",
       "  <tbody>\n",
       "    <tr>\n",
       "      <th>0</th>\n",
       "      <td>39026145</td>\n",
       "      <td>0 10:23:26</td>\n",
       "      <td>4814</td>\n",
       "      <td>1030</td>\n",
       "      <td>-2245.92</td>\n",
       "      <td>NaN</td>\n",
       "      <td>1.0</td>\n",
       "      <td>Звонки с использованием телефонов, считывающих...</td>\n",
       "      <td>Оплата услуги. Банкоматы СБ РФ</td>\n",
       "    </tr>\n",
       "    <tr>\n",
       "      <th>1</th>\n",
       "      <td>39026145</td>\n",
       "      <td>6 07:08:31</td>\n",
       "      <td>4814</td>\n",
       "      <td>1030</td>\n",
       "      <td>-5614.79</td>\n",
       "      <td>NaN</td>\n",
       "      <td>1.0</td>\n",
       "      <td>Звонки с использованием телефонов, считывающих...</td>\n",
       "      <td>Оплата услуги. Банкоматы СБ РФ</td>\n",
       "    </tr>\n",
       "    <tr>\n",
       "      <th>2</th>\n",
       "      <td>39026145</td>\n",
       "      <td>8 07:06:10</td>\n",
       "      <td>4814</td>\n",
       "      <td>1030</td>\n",
       "      <td>-1122.96</td>\n",
       "      <td>NaN</td>\n",
       "      <td>1.0</td>\n",
       "      <td>Звонки с использованием телефонов, считывающих...</td>\n",
       "      <td>Оплата услуги. Банкоматы СБ РФ</td>\n",
       "    </tr>\n",
       "    <tr>\n",
       "      <th>3</th>\n",
       "      <td>39026145</td>\n",
       "      <td>11 08:49:03</td>\n",
       "      <td>4814</td>\n",
       "      <td>1030</td>\n",
       "      <td>-2245.92</td>\n",
       "      <td>NaN</td>\n",
       "      <td>1.0</td>\n",
       "      <td>Звонки с использованием телефонов, считывающих...</td>\n",
       "      <td>Оплата услуги. Банкоматы СБ РФ</td>\n",
       "    </tr>\n",
       "    <tr>\n",
       "      <th>4</th>\n",
       "      <td>39026145</td>\n",
       "      <td>11 14:12:08</td>\n",
       "      <td>4814</td>\n",
       "      <td>1030</td>\n",
       "      <td>-2245.92</td>\n",
       "      <td>NaN</td>\n",
       "      <td>1.0</td>\n",
       "      <td>Звонки с использованием телефонов, считывающих...</td>\n",
       "      <td>Оплата услуги. Банкоматы СБ РФ</td>\n",
       "    </tr>\n",
       "    <tr>\n",
       "      <th>...</th>\n",
       "      <td>...</td>\n",
       "      <td>...</td>\n",
       "      <td>...</td>\n",
       "      <td>...</td>\n",
       "      <td>...</td>\n",
       "      <td>...</td>\n",
       "      <td>...</td>\n",
       "      <td>...</td>\n",
       "      <td>...</td>\n",
       "    </tr>\n",
       "    <tr>\n",
       "      <th>999579</th>\n",
       "      <td>36837532</td>\n",
       "      <td>18 23:38:60</td>\n",
       "      <td>3000</td>\n",
       "      <td>6000</td>\n",
       "      <td>1297824.89</td>\n",
       "      <td>NaN</td>\n",
       "      <td>NaN</td>\n",
       "      <td>Авиалинии, авиакомпании</td>\n",
       "      <td>Возврат  покупки. ТУ СБ РФ</td>\n",
       "    </tr>\n",
       "    <tr>\n",
       "      <th>999580</th>\n",
       "      <td>6808459</td>\n",
       "      <td>206 19:00:10</td>\n",
       "      <td>3000</td>\n",
       "      <td>6000</td>\n",
       "      <td>124693.24</td>\n",
       "      <td>NaN</td>\n",
       "      <td>NaN</td>\n",
       "      <td>Авиалинии, авиакомпании</td>\n",
       "      <td>Возврат  покупки. ТУ СБ РФ</td>\n",
       "    </tr>\n",
       "    <tr>\n",
       "      <th>999581</th>\n",
       "      <td>83759123</td>\n",
       "      <td>90 22:40:57</td>\n",
       "      <td>3000</td>\n",
       "      <td>6000</td>\n",
       "      <td>218976.79</td>\n",
       "      <td>NaN</td>\n",
       "      <td>NaN</td>\n",
       "      <td>Авиалинии, авиакомпании</td>\n",
       "      <td>Возврат  покупки. ТУ СБ РФ</td>\n",
       "    </tr>\n",
       "    <tr>\n",
       "      <th>999582</th>\n",
       "      <td>89619970</td>\n",
       "      <td>104 23:39:35</td>\n",
       "      <td>3000</td>\n",
       "      <td>6000</td>\n",
       "      <td>408307.49</td>\n",
       "      <td>NaN</td>\n",
       "      <td>NaN</td>\n",
       "      <td>Авиалинии, авиакомпании</td>\n",
       "      <td>Возврат  покупки. ТУ СБ РФ</td>\n",
       "    </tr>\n",
       "    <tr>\n",
       "      <th>999583</th>\n",
       "      <td>89619970</td>\n",
       "      <td>105 23:38:49</td>\n",
       "      <td>3000</td>\n",
       "      <td>6000</td>\n",
       "      <td>204153.74</td>\n",
       "      <td>NaN</td>\n",
       "      <td>NaN</td>\n",
       "      <td>Авиалинии, авиакомпании</td>\n",
       "      <td>Возврат  покупки. ТУ СБ РФ</td>\n",
       "    </tr>\n",
       "  </tbody>\n",
       "</table>\n",
       "<p>999584 rows × 9 columns</p>\n",
       "</div>"
      ],
      "text/plain": [
       "        customer_id   tr_datetime  mcc_code  tr_type      amount term_id  \\\n",
       "0          39026145    0 10:23:26      4814     1030    -2245.92     NaN   \n",
       "1          39026145    6 07:08:31      4814     1030    -5614.79     NaN   \n",
       "2          39026145    8 07:06:10      4814     1030    -1122.96     NaN   \n",
       "3          39026145   11 08:49:03      4814     1030    -2245.92     NaN   \n",
       "4          39026145   11 14:12:08      4814     1030    -2245.92     NaN   \n",
       "...             ...           ...       ...      ...         ...     ...   \n",
       "999579     36837532   18 23:38:60      3000     6000  1297824.89     NaN   \n",
       "999580      6808459  206 19:00:10      3000     6000   124693.24     NaN   \n",
       "999581     83759123   90 22:40:57      3000     6000   218976.79     NaN   \n",
       "999582     89619970  104 23:39:35      3000     6000   408307.49     NaN   \n",
       "999583     89619970  105 23:38:49      3000     6000   204153.74     NaN   \n",
       "\n",
       "        gender                                    mcc_description  \\\n",
       "0          1.0  Звонки с использованием телефонов, считывающих...   \n",
       "1          1.0  Звонки с использованием телефонов, считывающих...   \n",
       "2          1.0  Звонки с использованием телефонов, считывающих...   \n",
       "3          1.0  Звонки с использованием телефонов, считывающих...   \n",
       "4          1.0  Звонки с использованием телефонов, считывающих...   \n",
       "...        ...                                                ...   \n",
       "999579     NaN                            Авиалинии, авиакомпании   \n",
       "999580     NaN                            Авиалинии, авиакомпании   \n",
       "999581     NaN                            Авиалинии, авиакомпании   \n",
       "999582     NaN                            Авиалинии, авиакомпании   \n",
       "999583     NaN                            Авиалинии, авиакомпании   \n",
       "\n",
       "                        tr_description  \n",
       "0       Оплата услуги. Банкоматы СБ РФ  \n",
       "1       Оплата услуги. Банкоматы СБ РФ  \n",
       "2       Оплата услуги. Банкоматы СБ РФ  \n",
       "3       Оплата услуги. Банкоматы СБ РФ  \n",
       "4       Оплата услуги. Банкоматы СБ РФ  \n",
       "...                                ...  \n",
       "999579      Возврат  покупки. ТУ СБ РФ  \n",
       "999580      Возврат  покупки. ТУ СБ РФ  \n",
       "999581      Возврат  покупки. ТУ СБ РФ  \n",
       "999582      Возврат  покупки. ТУ СБ РФ  \n",
       "999583      Возврат  покупки. ТУ СБ РФ  \n",
       "\n",
       "[999584 rows x 9 columns]"
      ]
     },
     "execution_count": 17,
     "metadata": {},
     "output_type": "execute_result"
    }
   ],
   "source": [
    "### Type your code here\n",
    "t1 = pd.merge(transactions,customers_gender_train, on='customer_id', how = 'left')\n",
    "t2 = pd.merge(t1, tr_mcc_codes, on='mcc_code', how = 'inner')\n",
    "t3 = pd.merge(t2, tr_types, on='tr_type', how = 'inner')\n",
    "t3"
   ]
  },
  {
   "cell_type": "markdown",
   "metadata": {},
   "source": [
    "#### Task 1.\n",
    "1. Определите модуль разницы между средними тратами женщин и мужчин (трата - отрицательное значение amount). (*)\n",
    "\n",
    "Выведите ответ в виде вещественного числа, округлённого до двух знаков после запятой, отделив дробную часть точкой в формате \"123.45\"\n",
    "\n",
    "##### Пояснения:\n",
    "(\\*) Если в результате для мужчин получились значения [-1,-3,-5], а для женщин [-1,-2,-3],  \n",
    "то модуль разницы между средними арифметическими -3 и -2 будет равен 1.\n",
    "\n",
    "(\\**) Обратите внимание, что для вычисления модуля разности точных знаний о том,  \n",
    "какой класc относится к мужчинам, а какой - к женщинам, пока не требуется.\n",
    "\n",
    "(\\***) Округление не нужно производить отдельно по средним тратам женщин и мужчин, а только в самом конце, когда получите значение модуля разницы трат."
   ]
  },
  {
   "cell_type": "code",
   "execution_count": 38,
   "metadata": {
    "ExecuteTime": {
     "end_time": "2020-04-23T10:35:27.760136Z",
     "start_time": "2020-04-23T10:35:27.757599Z"
    }
   },
   "outputs": [
    {
     "name": "stdout",
     "output_type": "stream",
     "text": [
      "<pandas.core.groupby.generic.DataFrameGroupBy object at 0x00000040D88E26C8>\n"
     ]
    }
   ],
   "source": [
    "### Type your code here\n",
    "t3.head()\n",
    "df_neg = t3[t3['amount'] < 0]\n",
    "gb = df_neg.groupby(['amount', 'gender'])\n",
    "\n"
   ]
  },
  {
   "cell_type": "markdown",
   "metadata": {},
   "source": [
    "#### Task 2:\n",
    "1. Создайте новый столбец - mcc_code+tr_type, сконкатенировав значения из соответствующих столбцов. (\\*)\n",
    "2. Оставьте только наблюдения с отрицательным значением amount. Посчитайте дисперсию по категориям получившегося столбца mcc_code+tr_type, в которых количество наблюдений >= 10. \n",
    "3. Определите отношение максимальной дисперсии к минимальной.\n",
    "\n",
    "Выведите ответ в виде вещественного числа, округлённого до ближайшего целого в формате \"123456\" без дробной части.\n",
    "\n",
    "##### Пояснения:\n",
    "(\\*) Для конкатенации значений в столбцах можно использовать метод .astype(str) для серии и складывать соответствующие серии. Либо же применять apply к строкам датафрейма, прописывая логику преобразования и конкатенации значений внутри.\n",
    "\n",
    "(\\**) Для одновременного подсчета количества наблюдений и дисперсии по категориям можно воспользоваться функцией .agg()"
   ]
  },
  {
   "cell_type": "code",
   "execution_count": 20,
   "metadata": {
    "ExecuteTime": {
     "end_time": "2020-04-23T10:35:39.478241Z",
     "start_time": "2020-04-23T10:35:39.475846Z"
    },
    "scrolled": true
   },
   "outputs": [
    {
     "data": {
      "text/html": [
       "<div>\n",
       "<style scoped>\n",
       "    .dataframe tbody tr th:only-of-type {\n",
       "        vertical-align: middle;\n",
       "    }\n",
       "\n",
       "    .dataframe tbody tr th {\n",
       "        vertical-align: top;\n",
       "    }\n",
       "\n",
       "    .dataframe thead th {\n",
       "        text-align: right;\n",
       "    }\n",
       "</style>\n",
       "<table border=\"1\" class=\"dataframe\">\n",
       "  <thead>\n",
       "    <tr style=\"text-align: right;\">\n",
       "      <th></th>\n",
       "      <th>customer_id</th>\n",
       "      <th>tr_datetime</th>\n",
       "      <th>mcc_code</th>\n",
       "      <th>tr_type</th>\n",
       "      <th>amount</th>\n",
       "      <th>term_id</th>\n",
       "      <th>mcc_code_and_tr_type</th>\n",
       "    </tr>\n",
       "  </thead>\n",
       "  <tbody>\n",
       "    <tr>\n",
       "      <th>0</th>\n",
       "      <td>39026145</td>\n",
       "      <td>0 10:23:26</td>\n",
       "      <td>4814</td>\n",
       "      <td>1030</td>\n",
       "      <td>-2245.92</td>\n",
       "      <td>NaN</td>\n",
       "      <td>48141030</td>\n",
       "    </tr>\n",
       "    <tr>\n",
       "      <th>1</th>\n",
       "      <td>39026145</td>\n",
       "      <td>1 10:19:29</td>\n",
       "      <td>6011</td>\n",
       "      <td>7010</td>\n",
       "      <td>56147.89</td>\n",
       "      <td>NaN</td>\n",
       "      <td>60117010</td>\n",
       "    </tr>\n",
       "    <tr>\n",
       "      <th>2</th>\n",
       "      <td>39026145</td>\n",
       "      <td>1 10:20:56</td>\n",
       "      <td>4829</td>\n",
       "      <td>2330</td>\n",
       "      <td>-56147.89</td>\n",
       "      <td>NaN</td>\n",
       "      <td>48292330</td>\n",
       "    </tr>\n",
       "    <tr>\n",
       "      <th>3</th>\n",
       "      <td>39026145</td>\n",
       "      <td>1 10:39:54</td>\n",
       "      <td>5499</td>\n",
       "      <td>1010</td>\n",
       "      <td>-1392.47</td>\n",
       "      <td>NaN</td>\n",
       "      <td>54991010</td>\n",
       "    </tr>\n",
       "    <tr>\n",
       "      <th>4</th>\n",
       "      <td>39026145</td>\n",
       "      <td>2 15:33:42</td>\n",
       "      <td>5499</td>\n",
       "      <td>1010</td>\n",
       "      <td>-920.83</td>\n",
       "      <td>NaN</td>\n",
       "      <td>54991010</td>\n",
       "    </tr>\n",
       "    <tr>\n",
       "      <th>...</th>\n",
       "      <td>...</td>\n",
       "      <td>...</td>\n",
       "      <td>...</td>\n",
       "      <td>...</td>\n",
       "      <td>...</td>\n",
       "      <td>...</td>\n",
       "      <td>...</td>\n",
       "    </tr>\n",
       "    <tr>\n",
       "      <th>999995</th>\n",
       "      <td>98801178</td>\n",
       "      <td>269 10:29:06</td>\n",
       "      <td>5921</td>\n",
       "      <td>1010</td>\n",
       "      <td>-23016.59</td>\n",
       "      <td>127873</td>\n",
       "      <td>59211010</td>\n",
       "    </tr>\n",
       "    <tr>\n",
       "      <th>999996</th>\n",
       "      <td>98801178</td>\n",
       "      <td>270 10:26:45</td>\n",
       "      <td>5211</td>\n",
       "      <td>1010</td>\n",
       "      <td>-61380.88</td>\n",
       "      <td>10114209</td>\n",
       "      <td>52111010</td>\n",
       "    </tr>\n",
       "    <tr>\n",
       "      <th>999997</th>\n",
       "      <td>98801178</td>\n",
       "      <td>270 15:18:53</td>\n",
       "      <td>5921</td>\n",
       "      <td>1010</td>\n",
       "      <td>-11800.27</td>\n",
       "      <td>10105341</td>\n",
       "      <td>59211010</td>\n",
       "    </tr>\n",
       "    <tr>\n",
       "      <th>999998</th>\n",
       "      <td>98801178</td>\n",
       "      <td>271 12:47:13</td>\n",
       "      <td>5211</td>\n",
       "      <td>1010</td>\n",
       "      <td>-16170.59</td>\n",
       "      <td>10114209</td>\n",
       "      <td>52111010</td>\n",
       "    </tr>\n",
       "    <tr>\n",
       "      <th>999999</th>\n",
       "      <td>98801178</td>\n",
       "      <td>271 14:51:56</td>\n",
       "      <td>5921</td>\n",
       "      <td>1010</td>\n",
       "      <td>-10025.77</td>\n",
       "      <td>123991</td>\n",
       "      <td>59211010</td>\n",
       "    </tr>\n",
       "  </tbody>\n",
       "</table>\n",
       "<p>1000000 rows × 7 columns</p>\n",
       "</div>"
      ],
      "text/plain": [
       "        customer_id   tr_datetime  mcc_code  tr_type    amount   term_id  \\\n",
       "0          39026145    0 10:23:26      4814     1030  -2245.92       NaN   \n",
       "1          39026145    1 10:19:29      6011     7010  56147.89       NaN   \n",
       "2          39026145    1 10:20:56      4829     2330 -56147.89       NaN   \n",
       "3          39026145    1 10:39:54      5499     1010  -1392.47       NaN   \n",
       "4          39026145    2 15:33:42      5499     1010   -920.83       NaN   \n",
       "...             ...           ...       ...      ...       ...       ...   \n",
       "999995     98801178  269 10:29:06      5921     1010 -23016.59    127873   \n",
       "999996     98801178  270 10:26:45      5211     1010 -61380.88  10114209   \n",
       "999997     98801178  270 15:18:53      5921     1010 -11800.27  10105341   \n",
       "999998     98801178  271 12:47:13      5211     1010 -16170.59  10114209   \n",
       "999999     98801178  271 14:51:56      5921     1010 -10025.77    123991   \n",
       "\n",
       "       mcc_code_and_tr_type  \n",
       "0                  48141030  \n",
       "1                  60117010  \n",
       "2                  48292330  \n",
       "3                  54991010  \n",
       "4                  54991010  \n",
       "...                     ...  \n",
       "999995             59211010  \n",
       "999996             52111010  \n",
       "999997             59211010  \n",
       "999998             52111010  \n",
       "999999             59211010  \n",
       "\n",
       "[1000000 rows x 7 columns]"
      ]
     },
     "execution_count": 20,
     "metadata": {},
     "output_type": "execute_result"
    }
   ],
   "source": [
    "### Type your code here\n",
    "##Хм, я просто по порядку шла: выбрать отрицательные значения, сгруппировать; найти кол-во наблюдений и дисперсию, выбрать дисперсию там, где кол-во наблюдений не меньше 10; ну и поделить макс на мин\n",
    "transactions"
   ]
  },
  {
   "cell_type": "markdown",
   "metadata": {},
   "source": [
    "#### Task 3:\n",
    "1. По всем типам транзакций рассчитайте максимальную сумму прихода на карту (из строго положительных сумм по столбцу amount) отдельно для мужчин и женщин (назовите ее \"max_income\"). Оставьте по 5 транзакций для мужчин и для женщин, наименьших среди всех транзакций по полученным значениям \"max_income\". (\\*)\n",
    "2. Выделите среди них те, которые встречаются одновременно и у мужчин, и у женщин:\n",
    "    - 1) Покупка. POS ТУ СБ РФ\t\n",
    "    - 2) Списание после проведения претензионной работы\t\n",
    "    - 3) Плата за получение наличных. Россия\t\n",
    "    - 4) Перевод на карту/ с карты через АТМ (со взиманием комиссии с отправителя) по счету в овердрафте\t\n",
    "    - 5) Плата за получение наличных в АТМ. Россия\t \n",
    "    - 6) Наличные. Зарубеж. банк\t\n",
    "    - 7) Возврат покупки. POS ТУ Россия\n",
    "\n",
    "##### Пояснения:\n",
    "(\\*) Если максимальные суммы приходов по каким-то типам были равны [1,2,3,4,5,6,7,8], то 5 минимальных из них: [1,2,3,4,5]"
   ]
  },
  {
   "cell_type": "code",
   "execution_count": 6,
   "metadata": {
    "ExecuteTime": {
     "end_time": "2020-04-23T10:36:36.494729Z",
     "start_time": "2020-04-23T10:36:36.492051Z"
    },
    "scrolled": false
   },
   "outputs": [],
   "source": [
    "### Type your code here\n"
   ]
  },
  {
   "cell_type": "markdown",
   "metadata": {},
   "source": [
    "#### Task 4:\n",
    "1. Выделите из поля tr_datetime относительный день tr_day (первое число до точного времени). (\\*)\n",
    "2. Отфильтруйте строки таким образом, чтобы оставить только те транзакции, у которых в соответствующий относительный день tr_day количество уникальных MCC кодов при транзакциях было больше 75 (можно воспользоваться функцией nunique())\n",
    "3. Сгруппируйте полученный отфильтрованный датафрейм по MCC коду и полу, после чего, пронализировав результат, выберите верные варианты ответов ниже (\\**): \n",
    "    - 1) gender == 0 - женщины, gender == 1 - мужчины\n",
    "    - 2) gender == 1 - женщины, gender == 0 - мужчины\n",
    "    - 3) Абсолютное значение медианы с типом \"Флористика\" (расходов/приходов) у мужчин выше той же медианы у женщин\n",
    "    - 4) Абсолютное значение медианы женских трат (расходов/приходов) на ценные бумаги выше мужских\n",
    "    - 5) Абсолютное значение медианы женских трат (расходов/приходов) в категории \"Бары, коктейль-бары, дискотеки, ночные клубы и таверны — места продажи алкогольных напитков\" ниже мужских\n",
    "    \n",
    "##### Пояснения:\n",
    "(\\*) Для того, чтобы выделить всё, что стоит до первого пробела, можо использовать строковые методы для датафрейма - .str.split(), например. Либо же реализовывать логику выделения подстроки с помощью метода apply. <br>\n",
    "(\\**) Понять, какой класс к какому типу транзакций (мужские/женские) относится можно, если поизучать типичные для мужчин/женщин категории и сравнить средние/медианы расходов и/или приходов в них."
   ]
  },
  {
   "cell_type": "code",
   "execution_count": 7,
   "metadata": {
    "ExecuteTime": {
     "end_time": "2020-04-23T10:38:02.450820Z",
     "start_time": "2020-04-23T10:38:02.448354Z"
    }
   },
   "outputs": [],
   "source": [
    "### Type your code here\n"
   ]
  },
  {
   "cell_type": "markdown",
   "metadata": {},
   "source": [
    "#### Task 5:\n",
    "1. Разбейте расходы (отрицательные значения сумм) на 5 бакетов amount_bucket равного объёма (с помощью pd.qcut), разбив все траты на категории 'Very High', 'High', 'Middle', 'Low', 'Very Low'. (\\*)\n",
    "2. Оставшиеся неотрицательные траты отнесите к категории 'Income'.\n",
    "(воспользуйтесь функцией .cat.add_categories('Income') для того, чтобы добавить новую категорию 'Income' к категориям 'Very High', 'High', 'Middle', 'Low', 'Very Low', а затем заполните пустые значения новой категорией).\n",
    "3. Из поля tr_datetime выделите час tr_hour, в который произошла транзакция, как первые 2 цифры до \":\". (\\**)\n",
    "3. После этого постройте сводную таблицу, значениями в которой является пол gender, индексы - tr_hour, столбцы - amount_bucket.\n",
    "4. Отрисуйте полученные результаты, передав их в функцию plot_pivot_table, расположенную ниже.\n",
    "5. Выберите верные ответы на вопросы ниже.\n",
    "\n",
    "#### Вопросы:\n",
    "    - 1) Ночные поступления денег (01-05 часов) в более чем 85% случаев являются мужскими.\n",
    "    - 2) Посмотрев на долю мужчин в поступлениях средств (Income), можно сделать вывод, что количество поступлений средств женщинам в целом больше, чем мужчинам.\n",
    "    - 3) Самые низкие траты в 3 часа ночи осуществляются в более 70% случаев женщинами.\n",
    "    - 4) Существуют особые часы в мелких тратах, когда женщины тратят намного больше мужчин (>80%)\n",
    "    - 5) Посмотрев на долю мужчин в максимальных тратах средств (Very High), можно сделать вывод, что количество высоких трат в каждый возможный час мужчин больше, чем у женщин.\n",
    "\n",
    "##### Пояснения:\n",
    "(\\*) Обратите внимание, что в категории Very High Должны оказаться максимальные по модулю отрицательные транзакции. <br>\n",
    "(\\**) Например, для строки \"0 10:23:26\" час будет равен 10, а для строки \"6 07:08:31\"- 07. Можно воспользоваться функциями str.split() или str.find() и \n",
    "функцией .apply(lambda x: x[])"
   ]
  },
  {
   "cell_type": "code",
   "execution_count": 11,
   "metadata": {},
   "outputs": [],
   "source": [
    "def plot_pivot_table(pivot_table):\n",
    "    plt.figure(figsize=(9, 11))\n",
    "    sns.heatmap(pivot_table, cmap=\"YlGnBu\", annot=True, \n",
    "                fmt='.3g', annot_kws={\"size\": 14, \"fontsize\": 14})\n",
    "    plt.xticks(fontsize=15)\n",
    "    plt.yticks(rotation=0, fontsize=15)\n",
    "    plt.xlabel('Bucket', size=18)\n",
    "    plt.ylabel('Hour', fontsize=18)\n",
    "    plt.title('Gender analysis per bucket and hour', fontsize=20)\n",
    "    plt.show()"
   ]
  },
  {
   "cell_type": "code",
   "execution_count": 8,
   "metadata": {
    "ExecuteTime": {
     "end_time": "2020-04-23T10:39:36.365220Z",
     "start_time": "2020-04-23T10:39:36.362849Z"
    },
    "scrolled": false
   },
   "outputs": [],
   "source": [
    "# Type your code here\n"
   ]
  },
  {
   "cell_type": "markdown",
   "metadata": {},
   "source": [
    "#### Task 6:\n",
    "1. Измените тип поля tr_day на int.\n",
    "2. Выберите из transactions все MCC коды, которые встретились в выборке более чем 60000 раз.\n",
    "3. Сгруппируйте отфильтрованный датафрейм по дню и MCC-коду, получая средние значения суммы amount.  \n",
    "4. Далее отрисуйте зависимость средних сумм (может пригодится метод unstack()) по каждому из MCC-кодов по дням.\n",
    "5. Выберите верные ответы на вопросы ниже.\n",
    "\n",
    "#### Вопросы:\n",
    "    - 1) 2 из полученных MCC-кодов связаны с финансовыми институтами\n",
    "    - 2) 2 MCC кода, связанные со снятием наличности имеют в целом разные знаки (в одном случае почти везде - траты, в другом - пополнения)\n",
    "    - 3) Бакалейные магазины обладают максимальными средними тратами среди выбранных MCC-кодов\n",
    "    - 4) Денежные переводы имеют как минимум 3 явных минимума средних\n",
    "    - 5) Категория \"Звонки с использованием телефонов, считывающих магнитную ленту\" имеет визуально очень большую дисперсию. "
   ]
  },
  {
   "cell_type": "code",
   "execution_count": 9,
   "metadata": {
    "ExecuteTime": {
     "end_time": "2020-04-23T10:40:09.383871Z",
     "start_time": "2020-04-23T10:40:09.381395Z"
    },
    "scrolled": true
   },
   "outputs": [],
   "source": [
    "# Type your code here\n"
   ]
  }
 ],
 "metadata": {
  "hide_input": false,
  "kernelspec": {
   "display_name": "Python 3",
   "language": "python",
   "name": "python3"
  },
  "language_info": {
   "codemirror_mode": {
    "name": "ipython",
    "version": 3
   },
   "file_extension": ".py",
   "mimetype": "text/x-python",
   "name": "python",
   "nbconvert_exporter": "python",
   "pygments_lexer": "ipython3",
   "version": "3.7.6"
  },
  "toc": {
   "base_numbering": 1,
   "nav_menu": {},
   "number_sections": true,
   "sideBar": true,
   "skip_h1_title": false,
   "title_cell": "Table of Contents",
   "title_sidebar": "Contents",
   "toc_cell": true,
   "toc_position": {},
   "toc_section_display": true,
   "toc_window_display": false
  },
  "varInspector": {
   "cols": {
    "lenName": 16,
    "lenType": 16,
    "lenVar": 40
   },
   "kernels_config": {
    "python": {
     "delete_cmd_postfix": "",
     "delete_cmd_prefix": "del ",
     "library": "var_list.py",
     "varRefreshCmd": "print(var_dic_list())"
    },
    "r": {
     "delete_cmd_postfix": ") ",
     "delete_cmd_prefix": "rm(",
     "library": "var_list.r",
     "varRefreshCmd": "cat(var_dic_list()) "
    }
   },
   "types_to_exclude": [
    "module",
    "function",
    "builtin_function_or_method",
    "instance",
    "_Feature"
   ],
   "window_display": false
  }
 },
 "nbformat": 4,
 "nbformat_minor": 2
}
